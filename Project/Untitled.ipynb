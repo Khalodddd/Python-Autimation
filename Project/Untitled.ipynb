{
 "cells": [
  {
   "cell_type": "code",
   "execution_count": 2,
   "id": "1ab0b80c",
   "metadata": {},
   "outputs": [
    {
     "ename": "RuntimeError",
     "evalue": "Can not find Ghostscript DLL in registry",
     "output_type": "error",
     "traceback": [
      "\u001b[1;31m---------------------------------------------------------------------------\u001b[0m",
      "\u001b[1;31mRuntimeError\u001b[0m                              Traceback (most recent call last)",
      "Cell \u001b[1;32mIn[2], line 3\u001b[0m\n\u001b[0;32m      1\u001b[0m \u001b[38;5;28;01mimport\u001b[39;00m \u001b[38;5;21;01mtk\u001b[39;00m\n\u001b[0;32m      2\u001b[0m \u001b[38;5;28;01mimport\u001b[39;00m \u001b[38;5;21;01mpandas\u001b[39;00m\n\u001b[1;32m----> 3\u001b[0m \u001b[38;5;28;01mimport\u001b[39;00m \u001b[38;5;21;01mghostscript\u001b[39;00m\n",
      "File \u001b[1;32m~\\myenv\\lib\\site-packages\\ghostscript\\__init__.py:32\u001b[0m\n\u001b[0;32m     28\u001b[0m __all__ \u001b[38;5;241m=\u001b[39m [\u001b[38;5;124m'\u001b[39m\u001b[38;5;124mGhostscript\u001b[39m\u001b[38;5;124m'\u001b[39m, \u001b[38;5;124m'\u001b[39m\u001b[38;5;124mrevision\u001b[39m\u001b[38;5;124m'\u001b[39m,\n\u001b[0;32m     29\u001b[0m            \u001b[38;5;124m'\u001b[39m\u001b[38;5;124mGhostscriptError\u001b[39m\u001b[38;5;124m'\u001b[39m, \u001b[38;5;124m'\u001b[39m\u001b[38;5;124mPleaseDisplayUsage\u001b[39m\u001b[38;5;124m'\u001b[39m]\n\u001b[0;32m     31\u001b[0m \u001b[38;5;28;01mimport\u001b[39;00m \u001b[38;5;21;01msys\u001b[39;00m \u001b[38;5;66;03m# :todo: remove, debugging only\u001b[39;00m\n\u001b[1;32m---> 32\u001b[0m \u001b[38;5;28;01mfrom\u001b[39;00m \u001b[38;5;21;01m.\u001b[39;00m \u001b[38;5;28;01mimport\u001b[39;00m _gsprint \u001b[38;5;28;01mas\u001b[39;00m gs\n\u001b[0;32m     33\u001b[0m __version__ \u001b[38;5;241m=\u001b[39m gs\u001b[38;5;241m.\u001b[39m__version__\n\u001b[0;32m     35\u001b[0m GhostscriptError \u001b[38;5;241m=\u001b[39m gs\u001b[38;5;241m.\u001b[39mGhostscriptError\n",
      "File \u001b[1;32m~\\myenv\\lib\\site-packages\\ghostscript\\_gsprint.py:520\u001b[0m\n\u001b[0;32m    518\u001b[0m     libgs \u001b[38;5;241m=\u001b[39m __win32_finddll()\n\u001b[0;32m    519\u001b[0m     \u001b[38;5;28;01mif\u001b[39;00m \u001b[38;5;129;01mnot\u001b[39;00m libgs:\n\u001b[1;32m--> 520\u001b[0m         \u001b[38;5;28;01mraise\u001b[39;00m \u001b[38;5;167;01mRuntimeError\u001b[39;00m(\u001b[38;5;124m'\u001b[39m\u001b[38;5;124mCan not find Ghostscript DLL in registry\u001b[39m\u001b[38;5;124m'\u001b[39m)\n\u001b[0;32m    521\u001b[0m     libgs \u001b[38;5;241m=\u001b[39m windll\u001b[38;5;241m.\u001b[39mLoadLibrary(libgs)\n\u001b[0;32m    522\u001b[0m \u001b[38;5;28;01melse\u001b[39;00m:\n",
      "\u001b[1;31mRuntimeError\u001b[0m: Can not find Ghostscript DLL in registry"
     ]
    }
   ],
   "source": [
    "import tk\n",
    "import pandas\n",
    "import ghostscript\n",
    "\n"
   ]
  },
  {
   "cell_type": "code",
   "execution_count": null,
   "id": "c15dad42",
   "metadata": {},
   "outputs": [],
   "source": []
  }
 ],
 "metadata": {
  "kernelspec": {
   "display_name": "myenv",
   "language": "python",
   "name": "myenv"
  },
  "language_info": {
   "codemirror_mode": {
    "name": "ipython",
    "version": 3
   },
   "file_extension": ".py",
   "mimetype": "text/x-python",
   "name": "python",
   "nbconvert_exporter": "python",
   "pygments_lexer": "ipython3",
   "version": "3.10.4"
  }
 },
 "nbformat": 4,
 "nbformat_minor": 5
}
